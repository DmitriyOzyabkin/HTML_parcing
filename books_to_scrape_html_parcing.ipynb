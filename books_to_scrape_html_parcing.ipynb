{
 "cells": [
  {
   "cell_type": "markdown",
   "metadata": {},
   "source": [
    "Импорт необходимых библиотек"
   ]
  },
  {
   "cell_type": "code",
   "execution_count": null,
   "metadata": {},
   "outputs": [],
   "source": [
    "import requests\n",
    "from bs4 import BeautifulSoup\n",
    "from fake_useragent import UserAgent\n",
    "import re\n",
    "import pandas as pd\n",
    "import numpy as np"
   ]
  },
  {
   "cell_type": "markdown",
   "metadata": {},
   "source": [
    "Задаем начальные параметры"
   ]
  },
  {
   "cell_type": "code",
   "execution_count": null,
   "metadata": {},
   "outputs": [],
   "source": [
    "url = \"http://books.toscrape.com/catalogue/\"\n",
    "ua = UserAgent()\n",
    "headers = {\"User-Agent\": ua.chrome}\n",
    "params = {\"page\": 1}\n",
    "all_books = []\n",
    "session = requests.session()"
   ]
  },
  {
   "cell_type": "markdown",
   "metadata": {},
   "source": [
    "Парсинг каталога книг"
   ]
  },
  {
   "cell_type": "code",
   "execution_count": null,
   "metadata": {},
   "outputs": [],
   "source": [
    "while True:\n",
    "    \n",
    "    # Отпрвляем запрос на страницу и делаем суп\n",
    "    response = session.get(url+\"page-\"+str(params[\"page\"])+\".html\", headers=headers)\n",
    "    soup = BeautifulSoup(response.text, \"html.parser\")\n",
    "\n",
    "    # Проверяем, есть ли еще страницы\n",
    "    if response.status_code != 200:\n",
    "        break\n",
    "\n",
    "    # Получаем все книги со страницы\n",
    "    books = soup.find_all('li', {\"class\": \"col-xs-6 col-sm-4 col-md-3 col-lg-3\"})\n",
    "\n",
    "    # Обрабатываем каждую книгу. На каждой итерации получаем данные о книге и добавляем в основной список книг\n",
    "    for book in books:\n",
    "        book_info = {}\n",
    "\n",
    "        # Получаем название книги со страницы каталога\n",
    "        book_info[\"name\"] = book.find('h3').getText()\n",
    "\n",
    "        # Получаем ссылку на страницу с книгой\n",
    "        book_link = url+book.find('a').get('href')\n",
    "        \n",
    "        # Отправляем новый запрос на конкретную книгу и получаем ее описание\n",
    "        book_response = session.get(book_link, headers=headers)\n",
    "        book_soup = BeautifulSoup(book_response.content.decode(\"utf-8\"), \"html.parser\")\n",
    "        paragraphs = book_soup.find_all('p')\n",
    "        book_info[\"description\"] = paragraphs[3].getText()\n",
    "\n",
    "        # Получаем цену книги со странцы каталога\n",
    "        book_info[\"price\"] = float(book.find('div', {\"class\": \"product_price\"}).findChildren()[0].getText()[2:])\n",
    "\n",
    "        # Получаем количество на складе со странцы книги\n",
    "        instock =  book_soup.find('p', {\"class\": \"instock availability\"}).getText()\n",
    "        nums = re.findall(r'\\d+', instock)\n",
    "        book_info[\"in_stock\"] = int(nums[0])\n",
    "\n",
    "        # Добавляем книгу в основной список\n",
    "        all_books.append(book_info)\n",
    "\n",
    "    # Для визуализации в выводим на экран информацию об обработанной странице каталога и накопленных книгах\n",
    "    print(f\"Page {params[\"page\"]} passed, {len(all_books)} books were found\")\n",
    "    \n",
    "    # Увеличиваем значение страницы каталога\n",
    "    params[\"page\"] += 1\n",
    "\n",
    "\n",
    "# Обработка всех страниц каталога заняла 13 мин 49 сек "
   ]
  },
  {
   "cell_type": "markdown",
   "metadata": {},
   "source": [
    "Из полученных данных cформируем датафрейм и проверим на корректность"
   ]
  },
  {
   "cell_type": "code",
   "execution_count": null,
   "metadata": {},
   "outputs": [],
   "source": [
    "books_data = pd.DataFrame(all_books)"
   ]
  },
  {
   "cell_type": "code",
   "execution_count": null,
   "metadata": {},
   "outputs": [],
   "source": [
    "books_data"
   ]
  },
  {
   "cell_type": "markdown",
   "metadata": {},
   "source": [
    "Описание некоторых книг отсутствует, вместо него множественный перенос строки. Удалим их и заменим на пустое значение."
   ]
  },
  {
   "cell_type": "code",
   "execution_count": null,
   "metadata": {},
   "outputs": [],
   "source": [
    "books_data[\"description\"] = books_data[\"description\"].replace({r'.*\\n.*': np.nan}, regex=True)"
   ]
  },
  {
   "cell_type": "code",
   "execution_count": null,
   "metadata": {},
   "outputs": [],
   "source": [
    "books_data.iloc[995]"
   ]
  },
  {
   "cell_type": "markdown",
   "metadata": {},
   "source": [
    "Сохранение данных в csv"
   ]
  },
  {
   "cell_type": "code",
   "execution_count": null,
   "metadata": {},
   "outputs": [],
   "source": [
    "books_data.to_csv(\"books.csv\")"
   ]
  }
 ],
 "metadata": {
  "kernelspec": {
   "display_name": "Python 3",
   "language": "python",
   "name": "python3"
  },
  "language_info": {
   "codemirror_mode": {
    "name": "ipython",
    "version": 3
   },
   "file_extension": ".py",
   "mimetype": "text/x-python",
   "name": "python",
   "nbconvert_exporter": "python",
   "pygments_lexer": "ipython3",
   "version": "3.12.2"
  }
 },
 "nbformat": 4,
 "nbformat_minor": 2
}
